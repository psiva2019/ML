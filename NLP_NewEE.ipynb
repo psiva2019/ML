{
 "cells": [
  {
   "cell_type": "code",
   "execution_count": 40,
   "metadata": {},
   "outputs": [
    {
     "name": "stdout",
     "output_type": "stream",
     "text": [
      "File Type: .eml\n"
     ]
    }
   ],
   "source": [
    "import os\n",
    "\n",
    "def classify_file(file_path):\n",
    "    _, ext = os.path.splitext(file_path)\n",
    "    if ext.lower() in ['.eml', '.msg']:\n",
    "        return ext.lower()\n",
    "    else:\n",
    "        raise ValueError(\"Unsupported file type\")\n",
    "\n",
    "# Example usage\n",
    "file_path = 'INV.eml'\n",
    "file_type = classify_file(file_path)\n",
    "print(f\"File Type: {file_type}\")"
   ]
  },
  {
   "cell_type": "code",
   "execution_count": 43,
   "metadata": {},
   "outputs": [
    {
     "data": {
      "text/plain": [
       "{'from': 'SIVARAMAKRISHNAN SIVALINGAM <sivajaya2009@gmail.com>',\n",
       " 'to': 'Sivaramakrishnan Sivalingam <sivajaya2009@gmail.com>',\n",
       " 'subject': 'INV',\n",
       " 'date': 'Sat, 03 Aug 2024 16:13:47 +0530',\n",
       " 'content_type': 'multipart/alternative'}"
      ]
     },
     "execution_count": 43,
     "metadata": {},
     "output_type": "execute_result"
    }
   ],
   "source": [
    "import email\n",
    "from email import policy\n",
    "from email.parser import BytesParser\n",
    "import extract_msg\n",
    "\n",
    "def parse_email(file_path, file_type):\n",
    "    if file_type == '.eml':\n",
    "        with open(file_path, 'rb') as f:\n",
    "            msg = BytesParser(policy=policy.default).parse(f)\n",
    "        metadata = {\n",
    "            'from': msg['from'],\n",
    "            'to': msg['to'],\n",
    "            'subject': msg['subject'],\n",
    "            'date': msg['date'],\n",
    "            'content_type': msg.get_content_type()\n",
    "        }\n",
    "        return msg, metadata\n",
    "\n",
    "    elif file_type == '.msg':\n",
    "        msg = extract_msg.Message(file_path)\n",
    "        metadata = {\n",
    "            'from': msg.sender,\n",
    "            'to': msg.to,\n",
    "            'subject': msg.subject,\n",
    "            'date': msg.date,\n",
    "            'content_type': msg.message_type\n",
    "        }\n",
    "        return msg, metadata\n",
    "\n",
    "# Example usage\n",
    "msg, metadata = parse_email('INV.eml', '.eml')\n",
    "metadata\n"
   ]
  },
  {
   "cell_type": "code",
   "execution_count": 44,
   "metadata": {},
   "outputs": [
    {
     "data": {
      "text/plain": [
       "'Your Company Inc                        Bill To:\\nCompany No : U-1423242                  Target Company Inc\\n\\nUnit 1, Lingkaran Syed Putra            Unit 999, Lingkaran Syed Putra\\n\\nMid Valley City                         Mid Valley City\\n\\n59200 Kuala Lumpur                      59200 Kuala Lumpur\\n\\nWilayah Persekutuan Kuala Lumpur        Wilayah Persekutuan Kuala Lumpur\\nTel: 03-9876 5432                       Tel: 03-1234 567\\n\\nINVOICE\\n\\nInvoice No.: INV-42532622                   Invoice Date: 2021-05-23\\n\\nNo Description Quantity Unit Price, $ Price, $\\n1 | Lorems ipsum 5 2.30 11.50\\n2 | Consectetur adipiscing el 2 5.63 11.26\\n3 | Quis autem vel eum i 3 3.63 10.89\\n\\nSubtotal 33.65     Tax Amount 1.68    Grand total 35.33\\n\\nNote: The tax invoice is computer generated and no signature is required.'"
      ]
     },
     "execution_count": 44,
     "metadata": {},
     "output_type": "execute_result"
    }
   ],
   "source": [
    "def get_body_content(msg):\n",
    "    if msg.is_multipart():\n",
    "        for part in msg.iter_parts():\n",
    "            if part.get_content_type() == 'text/plain':\n",
    "                return part.get_payload(decode=True).decode()\n",
    "    else:\n",
    "        return msg.get_payload(decode=True).decode()\n",
    "\n",
    "body_content = get_body_content(msg)\n",
    "body_content"
   ]
  },
  {
   "cell_type": "code",
   "execution_count": 45,
   "metadata": {},
   "outputs": [],
   "source": [
    "from fpdf import FPDF\n",
    "from PIL import Image, ImageDraw, ImageFont\n",
    "\n",
    "def email_body_to_image(email_body, image_path):\n",
    "    font = ImageFont.load_default()\n",
    "    lines = email_body.split('\\n')\n",
    "    width = max(font.getsize(line)[0] for line in lines) + 20\n",
    "    height = len(lines) * (font.getsize(lines[0])[1] + 5) + 20\n",
    "    \n",
    "    image = Image.new('RGB', (width, height), color='white')\n",
    "    draw = ImageDraw.Draw(image)\n",
    "    \n",
    "    y_text = 10\n",
    "    for line in lines:\n",
    "        draw.text((10, y_text), line, font=font, fill='black')\n",
    "        y_text += font.getsize(line)[1] + 5\n",
    "    \n",
    "    image.save(image_path)\n",
    "\n",
    "def email_body_to_pdf(email_body, pdf_path):\n",
    "    pdf = FPDF()\n",
    "    pdf.add_page()\n",
    "    pdf.set_font(\"Arial\", size=12)\n",
    "    for line in email_body.split('\\n'):\n",
    "        pdf.cell(200, 10, txt=line, ln=True)\n",
    "    pdf.output(pdf_path)\n",
    "\n",
    "# Example usage\n",
    "#email_body_to_image(body_content, 'email_body.png')\n",
    "email_body_to_pdf(body_content, 'email_body.pdf')\n"
   ]
  },
  {
   "cell_type": "code",
   "execution_count": 4,
   "metadata": {},
   "outputs": [
    {
     "name": "stdout",
     "output_type": "stream",
     "text": [
      "Invoice No.: INV-42532622 Invoice Date: 2021-05-23 No Description Quantity Unit Price, $ Price, $ 1 | Lorems ipsum 5 2.30 11.50 2 | Consectetur adipiscing el 2 5.63 11.26 3 | Quis autem vel eum i 3 3.63 10.89 Subtotal 33.65 Tax Amount 1.68 Grand total 35.33 Note: The tax invoice is computer generated and no signature is required. \n"
     ]
    }
   ],
   "source": [
    "import re\n",
    "\n",
    "def preprocess_text(text):\n",
    "    # Remove unnecessary characters and normalize text\n",
    "    text = text.replace('\\n', ' ').replace('\\r', ' ')\n",
    "    text = re.sub(r'\\s+', ' ', text)  # Remove extra spaces\n",
    "    return text\n",
    "\n",
    "preprocessed_text = preprocess_text(body_content)\n",
    "print(preprocessed_text)\n"
   ]
  },
  {
   "cell_type": "code",
   "execution_count": 29,
   "metadata": {},
   "outputs": [
    {
     "name": "stderr",
     "output_type": "stream",
     "text": [
      "All PyTorch model weights were used when initializing TFBertForTokenClassification.\n",
      "\n",
      "All the weights of TFBertForTokenClassification were initialized from the PyTorch model.\n",
      "If your task is similar to the task the model of the checkpoint was trained on, you can already use TFBertForTokenClassification for predictions without further training.\n"
     ]
    },
    {
     "name": "stdout",
     "output_type": "stream",
     "text": [
      "[('[CLS]', 0), ('In', 0), ('##vo', 0), ('##ice', 0), ('No', 0), ('.', 0), ('123', 0), ('##4', 0), ('[SEP]', 0)]\n"
     ]
    }
   ],
   "source": [
    "import tensorflow as tf\n",
    "from transformers import TFAutoModelForTokenClassification, AutoTokenizer\n",
    "import pdfplumber\n",
    "import docx\n",
    "import pandas as pd\n",
    "\n",
    "model = TFAutoModelForTokenClassification.from_pretrained(\"dslim/bert-base-NER\")\n",
    "tokenizer = AutoTokenizer.from_pretrained(\"dslim/bert-base-NER\")\n",
    "\n",
    "def extract_entities(text):\n",
    "    inputs = tokenizer(text, return_tensors=\"tf\")\n",
    "    outputs = model(inputs.data)\n",
    "    logits = outputs.logits\n",
    "    predicted_ids = tf.argmax(logits, axis=-1).numpy()\n",
    "    tokens = tokenizer.convert_ids_to_tokens(inputs[\"input_ids\"].numpy()[0])\n",
    "    entities = [(token, idx) for token, idx in zip(tokens, predicted_ids[0])]\n",
    "    return entities\n",
    "\n",
    "# Example usage for email body\n",
    "email_body = \"Invoice No. 1234\"\n",
    "entities = extract_entities(email_body)\n",
    "print(entities)\n"
   ]
  },
  {
   "cell_type": "code",
   "execution_count": 25,
   "metadata": {},
   "outputs": [
    {
     "data": {
      "text/plain": [
       "[('[CLS]', 0),\n",
       " ('In', 0),\n",
       " ('##vo', 0),\n",
       " ('##ice', 0),\n",
       " ('No', 0),\n",
       " ('.', 0),\n",
       " (':', 0),\n",
       " ('IN', 0),\n",
       " ('##V', 0),\n",
       " ('-', 0),\n",
       " ('425', 0),\n",
       " ('##32', 0),\n",
       " ('##6', 0),\n",
       " ('##22', 0),\n",
       " ('In', 0),\n",
       " ('##vo', 0),\n",
       " ('##ice', 0),\n",
       " ('Date', 0),\n",
       " (':', 0),\n",
       " ('202', 0),\n",
       " ('##1', 0),\n",
       " ('-', 0),\n",
       " ('05', 0),\n",
       " ('-', 0),\n",
       " ('23', 0),\n",
       " ('No', 0),\n",
       " ('Des', 0),\n",
       " ('##cription', 0),\n",
       " ('Q', 0),\n",
       " ('##uant', 0),\n",
       " ('##ity', 0),\n",
       " ('Unit', 0),\n",
       " ('Price', 0),\n",
       " (',', 0),\n",
       " ('$', 0),\n",
       " ('Price', 0),\n",
       " (',', 0),\n",
       " ('$', 0),\n",
       " ('1', 0),\n",
       " ('|', 0),\n",
       " ('Lo', 0),\n",
       " ('##rem', 0),\n",
       " ('##s', 0),\n",
       " ('i', 0),\n",
       " ('##ps', 0),\n",
       " ('##um', 0),\n",
       " ('5', 0),\n",
       " ('2', 0),\n",
       " ('.', 0),\n",
       " ('30', 0),\n",
       " ('11', 0),\n",
       " ('.', 0),\n",
       " ('50', 0),\n",
       " ('2', 0),\n",
       " ('|', 0),\n",
       " ('Con', 0),\n",
       " ('##sect', 0),\n",
       " ('##et', 0),\n",
       " ('##ur', 0),\n",
       " ('ad', 0),\n",
       " ('##ip', 0),\n",
       " ('##is', 0),\n",
       " ('##cing', 0),\n",
       " ('el', 0),\n",
       " ('2', 0),\n",
       " ('5', 0),\n",
       " ('.', 0),\n",
       " ('63', 0),\n",
       " ('11', 0),\n",
       " ('.', 0),\n",
       " ('26', 0),\n",
       " ('3', 0),\n",
       " ('|', 0),\n",
       " ('Q', 0),\n",
       " ('##ui', 0),\n",
       " ('##s', 0),\n",
       " ('au', 0),\n",
       " ('##tem', 0),\n",
       " ('ve', 0),\n",
       " ('##l', 0),\n",
       " ('e', 0),\n",
       " ('##um', 0),\n",
       " ('i', 0),\n",
       " ('3', 0),\n",
       " ('3', 0),\n",
       " ('.', 0),\n",
       " ('63', 0),\n",
       " ('10', 0),\n",
       " ('.', 0),\n",
       " ('89', 0),\n",
       " ('Sub', 0),\n",
       " ('##to', 0),\n",
       " ('##tal', 0),\n",
       " ('33', 0),\n",
       " ('.', 0),\n",
       " ('65', 0),\n",
       " ('Tax', 0),\n",
       " ('Am', 0),\n",
       " ('##ou', 0),\n",
       " ('##nt', 0),\n",
       " ('1', 0),\n",
       " ('.', 0),\n",
       " ('68', 0),\n",
       " ('Grand', 0),\n",
       " ('total', 0),\n",
       " ('35', 0),\n",
       " ('.', 0),\n",
       " ('33', 0),\n",
       " ('Note', 0),\n",
       " (':', 0),\n",
       " ('The', 0),\n",
       " ('tax', 0),\n",
       " ('in', 0),\n",
       " ('##vo', 0),\n",
       " ('##ice', 0),\n",
       " ('is', 0),\n",
       " ('computer', 0),\n",
       " ('generated', 0),\n",
       " ('and', 0),\n",
       " ('no', 0),\n",
       " ('signature', 0),\n",
       " ('is', 0),\n",
       " ('required', 0),\n",
       " ('.', 0),\n",
       " ('[SEP]', 0)]"
      ]
     },
     "execution_count": 25,
     "metadata": {},
     "output_type": "execute_result"
    }
   ],
   "source": [
    "entities"
   ]
  },
  {
   "cell_type": "code",
   "execution_count": 11,
   "metadata": {},
   "outputs": [
    {
     "name": "stdout",
     "output_type": "stream",
     "text": [
      "{\n",
      "    \"from\": \"SIVARAMAKRISHNAN SIVALINGAM <sivajaya2009@gmail.com>\",\n",
      "    \"to\": \"Sivaramakrishnan Sivalingam <sivajaya2009@gmail.com>\",\n",
      "    \"subject\": \"Invoice for Payment\",\n",
      "    \"Invoice No.\": null,\n",
      "    \"Invoice Date\": \"3 3.63 10.89\",\n",
      "    \"Amount\": null\n",
      "}\n"
     ]
    }
   ],
   "source": [
    "import json\n",
    "\n",
    "def generate_json_output(metadata, email_entities):\n",
    "    output = {\n",
    "        'from': metadata['from'],\n",
    "        'to': metadata['to'],\n",
    "        'subject': metadata['subject'],\n",
    "        'Invoice No.': email_entities.get('INVOICE'),\n",
    "        'Invoice Date': email_entities.get('DATE'),\n",
    "        'Amount': email_entities.get('MONEY'),\n",
    "    }\n",
    "    return json.dumps(output, indent=4)\n",
    "\n",
    "# Example usage\n",
    "json_output = generate_json_output(metadata, email_entities)\n",
    "print(json_output)\n"
   ]
  },
  {
   "cell_type": "code",
   "execution_count": 1,
   "metadata": {},
   "outputs": [
    {
     "name": "stderr",
     "output_type": "stream",
     "text": [
      "/Users/sivaramakrishnan/Development/ML/.venv/lib/python3.9/site-packages/urllib3/__init__.py:35: NotOpenSSLWarning: urllib3 v2 only supports OpenSSL 1.1.1+, currently the 'ssl' module is compiled with 'LibreSSL 2.8.3'. See: https://github.com/urllib3/urllib3/issues/3020\n",
      "  warnings.warn(\n",
      "/Users/sivaramakrishnan/Development/ML/.venv/lib/python3.9/site-packages/tqdm/auto.py:21: TqdmWarning: IProgress not found. Please update jupyter and ipywidgets. See https://ipywidgets.readthedocs.io/en/stable/user_install.html\n",
      "  from .autonotebook import tqdm as notebook_tqdm\n",
      "Some weights of the model checkpoint at dbmdz/bert-large-cased-finetuned-conll03-english were not used when initializing BertForTokenClassification: ['bert.pooler.dense.bias', 'bert.pooler.dense.weight']\n",
      "- This IS expected if you are initializing BertForTokenClassification from the checkpoint of a model trained on another task or with another architecture (e.g. initializing a BertForSequenceClassification model from a BertForPreTraining model).\n",
      "- This IS NOT expected if you are initializing BertForTokenClassification from the checkpoint of a model that you expect to be exactly identical (initializing a BertForSequenceClassification model from a BertForSequenceClassification model).\n",
      "Hardware accelerator e.g. GPU is available in the environment, but no `device` argument is passed to the `Pipeline` object. Model will be on CPU.\n"
     ]
    },
    {
     "name": "stdout",
     "output_type": "stream",
     "text": [
      "Entity: John, Label: I-PER, Confidence: 1.00\n",
      "Entity: Do, Label: I-PER, Confidence: 1.00\n",
      "Entity: ##e, Label: I-PER, Confidence: 0.99\n",
      "Entity: Open, Label: I-ORG, Confidence: 1.00\n",
      "Entity: ##A, Label: I-ORG, Confidence: 1.00\n",
      "Entity: ##I, Label: I-ORG, Confidence: 1.00\n",
      "Entity: San, Label: I-LOC, Confidence: 1.00\n",
      "Entity: Francisco, Label: I-LOC, Confidence: 1.00\n"
     ]
    }
   ],
   "source": [
    "import torch\n",
    "from transformers import AutoTokenizer, AutoModelForTokenClassification\n",
    "from transformers import pipeline\n",
    "\n",
    "# Load a pre-trained model and tokenizer for NER\n",
    "model_name = \"dbmdz/bert-large-cased-finetuned-conll03-english\"\n",
    "tokenizer = AutoTokenizer.from_pretrained(model_name)\n",
    "model = AutoModelForTokenClassification.from_pretrained(model_name)\n",
    "\n",
    "# Create a pipeline for NER\n",
    "nlp = pipeline(\"ner\", model=model, tokenizer=tokenizer)\n",
    "\n",
    "# Define the text string\n",
    "text = \"John Doe works at OpenAI and lives in San Francisco.\"\n",
    "\n",
    "# Perform NER\n",
    "entities = nlp(text)\n",
    "\n",
    "# Process and print the entities\n",
    "for entity in entities:\n",
    "    print(f\"Entity: {entity['word']}, Label: {entity['entity']}, Confidence: {entity['score']:.2f}\")\n"
   ]
  },
  {
   "cell_type": "code",
   "execution_count": 16,
   "metadata": {},
   "outputs": [],
   "source": [
    "text = \"\"\"\n",
    "Your Company Inc                        Bill To:\n",
    "Company No : U-1423242                  Target Company Inc\n",
    "\n",
    "Unit 1, Lingkaran Syed Putra            Unit 999, Lingkaran Syed Putra\n",
    "\n",
    "Mid Valley City                         Mid Valley City\n",
    "\n",
    "59200 Kuala Lumpur                      59200 Kuala Lumpur\n",
    "\n",
    "Wilayah Persekutuan Kuala Lumpur        Wilayah Persekutuan Kuala Lumpur\n",
    "Tel: 03-9876 5432                       Tel: 03-1234 567\n",
    "\n",
    "INVOICE\n",
    "\n",
    "Invoice No.: INV-42532622                   Invoice Date: 2021-05-23\n",
    "\n",
    "No Description Quantity Unit Price, $ Price, $\n",
    "1 | Lorems ipsum 5 2.30 11.50\n",
    "2 | Consectetur adipiscing el 2 5.63 11.26\n",
    "3 | Quis autem vel eum i 3 3.63 10.89\n",
    "\n",
    "Subtotal 33.65     Tax Amount 1.68    Grand total 35.33\n",
    "\n",
    "Note: The tax invoice is computer generated and no signature is required.\n",
    "\"\"\"\n"
   ]
  },
  {
   "cell_type": "code",
   "execution_count": 25,
   "metadata": {},
   "outputs": [
    {
     "data": {
      "text/plain": [
       "'Invoice No.: INV-42532622                   Invoice Date: 2021-05-23\\n\\nNo Description Quantity Unit Price, $ Price, $\\n1 | Lorems ipsum 5 2.30 11.50\\n2 | Consectetur adipiscing el 2 5.63 11.26\\n3 | Quis autem vel eum i 3 3.63 10.89\\n\\nSubtotal 33.65     Tax Amount 1.68    Grand total 35.33\\n\\nNote: The tax invoice is computer generated and no signature is required.\\n'"
      ]
     },
     "execution_count": 25,
     "metadata": {},
     "output_type": "execute_result"
    }
   ],
   "source": [
    "body_content"
   ]
  },
  {
   "cell_type": "code",
   "execution_count": 26,
   "metadata": {},
   "outputs": [
    {
     "data": {
      "text/plain": [
       "'Invoice No.: INV-42532622          Invoice Date: 2021-05-23  No Description Quantity Unit Price, $ Price, $ 1 | Lorems ipsum 5 2.30 11.50 2 | Consectetur adipiscing el 2 5.63 11.26 3 | Quis autem vel eum i 3 3.63 10.89  Subtotal 33.65   Tax Amount 1.68  Grand total 35.33  Note: The tax invoice is computer generated and no signature is required. '"
      ]
     },
     "execution_count": 26,
     "metadata": {},
     "output_type": "execute_result"
    }
   ],
   "source": [
    "body_content.replace('  ',' ').replace('\\t',' ').replace('\\n',' ')"
   ]
  },
  {
   "cell_type": "code",
   "execution_count": 36,
   "metadata": {},
   "outputs": [],
   "source": [
    "new_text = ' '.join(re.sub(r'\\s+', ' ', text).strip().split())"
   ]
  },
  {
   "cell_type": "code",
   "execution_count": 37,
   "metadata": {},
   "outputs": [
    {
     "data": {
      "text/plain": [
       "'Your Company Inc Bill To: Company No : U-1423242 Target Company Inc Unit 1, Lingkaran Syed Putra Unit 999, Lingkaran Syed Putra Mid Valley City Mid Valley City 59200 Kuala Lumpur 59200 Kuala Lumpur Wilayah Persekutuan Kuala Lumpur Wilayah Persekutuan Kuala Lumpur Tel: 03-9876 5432 Tel: 03-1234 567 INVOICE Invoice No.: INV-42532622 Invoice Date: 2021-05-23 No Description Quantity Unit Price, $ Price, $ 1 | Lorems ipsum 5 2.30 11.50 2 | Consectetur adipiscing el 2 5.63 11.26 3 | Quis autem vel eum i 3 3.63 10.89 Subtotal 33.65 Tax Amount 1.68 Grand total 35.33 Note: The tax invoice is computer generated and no signature is required.'"
      ]
     },
     "execution_count": 37,
     "metadata": {},
     "output_type": "execute_result"
    }
   ],
   "source": [
    "new_text"
   ]
  },
  {
   "cell_type": "code",
   "execution_count": 8,
   "metadata": {},
   "outputs": [
    {
     "name": "stdout",
     "output_type": "stream",
     "text": [
      "{\n",
      "    \"Company No\": \"U-1423242\",\n",
      "    \"Invoice No\": \"INV-42532622\",\n",
      "    \"Invoice Date\": \"2021-05-23\",\n",
      "    \"Seller Address\": \"\",\n",
      "    \"Buyer Address\": \"Company No : U-1423242                  Target Company Inc  Unit 1, Lingkaran Syed Putra            Unit 999, Lingkaran Syed Putra  Mid Valley City                         Mid Valley City  59200 Kuala Lumpur                      59200 Kuala Lumpur  Wilayah Persekutuan Kuala Lumpur        Wilayah Persekutuan Kuala Lumpur Tel: 03-9876 5432                       Tel: 03-1234 567\",\n",
      "    \"Subtotal\": 33.65,\n",
      "    \"Tax Amount\": 1.68,\n",
      "    \"Grand Total\": 35.33\n",
      "}\n"
     ]
    }
   ],
   "source": [
    "import re\n",
    "import json\n",
    "\n",
    "def extract_information(text):\n",
    "    data = {}\n",
    "\n",
    "    # Extract company number\n",
    "    company_no_match = re.search(r'Company No\\s*:\\s*(U-\\d+)', text)\n",
    "    if company_no_match:\n",
    "        data['Company No'] = company_no_match.group(1)\n",
    "\n",
    "    # Extract invoice number and date\n",
    "    invoice_info_match = re.search(r'Invoice No\\.\\s*:\\s*(INV-\\d+)\\s+Invoice Date:\\s*([\\d-]+)', text)\n",
    "    if invoice_info_match:\n",
    "        data['Invoice No'] = invoice_info_match.group(1)\n",
    "        data['Invoice Date'] = invoice_info_match.group(2)\n",
    "\n",
    "    # Extract seller address (text below \"Your Company Inc\" up to \"Bill To:\")\n",
    "    seller_address_match = re.search(r'Your Company Inc\\s+(.*?)\\s+Bill To:', text, re.DOTALL)\n",
    "    if seller_address_match:\n",
    "        data['Seller Address'] = seller_address_match.group(1).strip()\n",
    "\n",
    "    # Extract buyer address (text below \"Bill To:\" up to \"INVOICE\")\n",
    "    buyer_address_match = re.search(r'Bill To:\\s+(.*?)\\s+INVOICE', text, re.DOTALL)\n",
    "    if buyer_address_match:\n",
    "        data['Buyer Address'] = buyer_address_match.group(1).strip()\n",
    "\n",
    "    # Extract Subtotal\n",
    "    subtotal_match = re.search(r'Subtotal\\s+(\\d+\\.\\d{2})', text)\n",
    "    if subtotal_match:\n",
    "        data['Subtotal'] = float(subtotal_match.group(1))\n",
    "\n",
    "    # Extract Tax Amount\n",
    "    tax_amount_match = re.search(r'Tax Amount\\s+(\\d+\\.\\d{2})', text)\n",
    "    if tax_amount_match:\n",
    "        data['Tax Amount'] = float(tax_amount_match.group(1))\n",
    "\n",
    "    # Extract Grand Total\n",
    "    grand_total_match = re.search(r'Grand total\\s+(\\d+\\.\\d{2})', text)\n",
    "    if grand_total_match:\n",
    "        data['Grand Total'] = float(grand_total_match.group(1))\n",
    "\n",
    "    return data\n",
    "\n",
    "\n",
    "# Extract information\n",
    "extracted_data = extract_information(text)\n",
    "\n",
    "# Convert to JSON\n",
    "json_data = json.dumps(extracted_data, indent=4)\n",
    "\n",
    "print(json_data)\n"
   ]
  },
  {
   "cell_type": "code",
   "execution_count": 1,
   "metadata": {},
   "outputs": [
    {
     "name": "stdout",
     "output_type": "stream",
     "text": [
      "Column Names: ['No', 'Description', 'Quantity', 'Unit', 'Price,', '$', 'Price,', '$']\n",
      "{'No': '1', 'Description': 'Lorems ipsum', 'Quantity': '5', 'Unit': '2.30', 'Price,': '11.50'}\n",
      "{'No': '2', 'Description': 'Consectetur adipiscing el', 'Quantity': '2', 'Unit': '5.63', 'Price,': '11.26'}\n",
      "{'No': '3', 'Description': 'Quis autem vel eum i', 'Quantity': '3', 'Unit': '3.63', 'Price,': '10.89'}\n"
     ]
    }
   ],
   "source": [
    "import re\n",
    "\n",
    "def extract_table_with_headers(text):\n",
    "    # Define a regular expression pattern to match the header and rows\n",
    "    header_pattern = re.compile(\n",
    "        r'No\\s*Description\\s*Quantity\\s*Unit Price, \\$\\s*Price, \\$'\n",
    "    )\n",
    "    \n",
    "    # Define a regular expression pattern to match the table rows\n",
    "    row_pattern = re.compile(\n",
    "        r'(\\d+)\\s*\\|\\s*(.+?)\\s*(\\d+)\\s*([\\d.]+)\\s*([\\d.]+)'\n",
    "    )\n",
    "    \n",
    "    # Search for the header\n",
    "    header_match = header_pattern.search(text)\n",
    "    \n",
    "    # Extract the column names from the header\n",
    "    column_names = []\n",
    "    if header_match:\n",
    "        column_names = [name.strip() for name in header_match.group(0).split()]\n",
    "    \n",
    "    # Find all matches for table rows\n",
    "    row_matches = row_pattern.findall(text)\n",
    "    \n",
    "    # Define a list to store the extracted table data\n",
    "    table_data = []\n",
    "    \n",
    "    # Process each match and append to the table data list\n",
    "    for match in row_matches:\n",
    "        row = {\n",
    "            column_names[0]: match[0],\n",
    "            column_names[1]: match[1],\n",
    "            column_names[2]: match[2],\n",
    "            column_names[3]: match[3],\n",
    "            column_names[4]: match[4]\n",
    "        }\n",
    "        table_data.append(row)\n",
    "    \n",
    "    return column_names, table_data\n",
    "\n",
    "# The provided text\n",
    "text = \"\"\"\n",
    "Your Company Inc Bill To: Company No : U-1423242 Target Company Inc Unit 1, Lingkaran Syed Putra Unit 999, Lingkaran Syed Putra Mid Valley City Mid Valley City 59200 Kuala Lumpur 59200 Kuala Lumpur Wilayah Persekutuan Kuala Lumpur Wilayah Persekutuan Kuala Lumpur Tel: 03-9876 5432 Tel: 03-1234 567 INVOICE Invoice No.: INV-42532622 Invoice Date: 2021-05-23 No Description Quantity Unit Price, $ Price, $ 1 | Lorems ipsum 5 2.30 11.50 2 | Consectetur adipiscing el 2 5.63 11.26 3 | Quis autem vel eum i 3 3.63 10.89 Subtotal 33.65 Tax Amount 1.68 Grand total 35.33 Note: The tax invoice is computer generated and no signature is required.\n",
    "\"\"\"\n",
    "\n",
    "# Extract column names and table data\n",
    "column_names, table = extract_table_with_headers(text)\n",
    "print(\"Column Names:\", column_names)\n",
    "for row in table:\n",
    "    print(row)\n"
   ]
  },
  {
   "cell_type": "code",
   "execution_count": 27,
   "metadata": {},
   "outputs": [
    {
     "name": "stdout",
     "output_type": "stream",
     "text": [
      "Your Company Inc Bill To: Company \n",
      "No : U-1423242 Target Company Inc Unit 1, Lingkaran Syed Putra Unit 999, Lingkaran Syed Putra Mid Valley City Mid Valley City 59200 Kuala Lumpur 59200 Kuala Lumpur Wilayah Persekutuan Kuala Lumpur Wilayah Persekutuan Kuala Lumpur \n",
      "Tel: 03-9876 5432 Tel: 03-1234 567 \n",
      "INVOICE Invoice \n",
      "No.: INV-42532622 Invoice Date: 2021-05-23 No Description Quantity Unit Price, $ Price, $ 1 | Lorems ipsum 5 2.30 11.50 2 | Consectetur adipiscing el 2 5.63 11.26 3 | Quis autem vel eum i 3 3.63 10.89 \n",
      "Subtotal 33.65 Tax Amount 1.68 Grand total 35.33 \n",
      "Note: The tax invoice is computer generated and no signature is required.\n"
     ]
    }
   ],
   "source": [
    "import re\n",
    "\n",
    "def format_invoice(text):\n",
    "    # Split the text into lines\n",
    "    lines = text.split(' ')\n",
    "    \n",
    "    # Define the blocks to identify\n",
    "    blocks = {\n",
    "        \"company_info\": [\"Your Company Inc\", \"Bill To:\", \"Company No :\", \"Target Company Inc\", \"Unit 1,\", \"Unit 999,\", \"Mid Valley City\", \"59200 Kuala Lumpur\", \"Wilayah Persekutuan Kuala Lumpur\", \"Tel:\"],\n",
    "        \"invoice_info\": [\"INVOICE\", \"Invoice No.:\", \"Invoice Date:\"],\n",
    "        \"item_info\": [\"No\", \"Description\", \"Quantity\", \"Unit Price,\", \"Price,\"],\n",
    "        \"totals\": [\"Subtotal\", \"Tax Amount\", \"Grand total\"],\n",
    "        \"note\": [\"Note:\"]\n",
    "    }\n",
    "    \n",
    "    formatted_text = \"\"\n",
    "    current_block = None\n",
    "    \n",
    "    for line in lines:\n",
    "        for block, keywords in blocks.items():\n",
    "            if any(keyword in line for keyword in keywords):\n",
    "                if current_block != block:\n",
    "                    formatted_text += \"\\n\" if formatted_text else \"\"\n",
    "                    current_block = block\n",
    "                break\n",
    "        formatted_text += line + \" \"\n",
    "    \n",
    "    return formatted_text.strip()\n",
    "\n",
    "text = \"\"\"Your Company Inc Bill To: Company No : U-1423242 Target Company Inc Unit 1, Lingkaran Syed Putra Unit 999, Lingkaran Syed Putra Mid Valley City Mid Valley City 59200 Kuala Lumpur 59200 Kuala Lumpur Wilayah Persekutuan Kuala Lumpur Wilayah Persekutuan Kuala Lumpur Tel: 03-9876 5432 Tel: 03-1234 567 INVOICE Invoice No.: INV-42532622 Invoice Date: 2021-05-23 No Description Quantity Unit Price, $ Price, $ 1 | Lorems ipsum 5 2.30 11.50 2 | Consectetur adipiscing el 2 5.63 11.26 3 | Quis autem vel eum i 3 3.63 10.89 Subtotal 33.65 Tax Amount 1.68 Grand total 35.33 Note: The tax invoice is computer generated and no signature is required.\"\"\"\n",
    "\n",
    "formatted_text = format_invoice(text)\n",
    "print(formatted_text)\n"
   ]
  },
  {
   "cell_type": "code",
   "execution_count": 23,
   "metadata": {},
   "outputs": [
    {
     "name": "stderr",
     "output_type": "stream",
     "text": [
      "[nltk_data] Downloading package punkt to\n",
      "[nltk_data]     /Users/sivaramakrishnan/nltk_data...\n",
      "[nltk_data]   Unzipping tokenizers/punkt.zip.\n"
     ]
    },
    {
     "data": {
      "text/plain": [
       "True"
      ]
     },
     "execution_count": 23,
     "metadata": {},
     "output_type": "execute_result"
    }
   ],
   "source": [
    "nltk.download('punkt')"
   ]
  }
 ],
 "metadata": {
  "kernelspec": {
   "display_name": ".venv",
   "language": "python",
   "name": "python3"
  },
  "language_info": {
   "codemirror_mode": {
    "name": "ipython",
    "version": 3
   },
   "file_extension": ".py",
   "mimetype": "text/x-python",
   "name": "python",
   "nbconvert_exporter": "python",
   "pygments_lexer": "ipython3",
   "version": "3.9.6"
  }
 },
 "nbformat": 4,
 "nbformat_minor": 2
}
